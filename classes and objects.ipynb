{
 "cells": [
  {
   "cell_type": "code",
   "execution_count": 19,
   "metadata": {},
   "outputs": [],
   "source": [
    "class Robot:   \n",
    "    def __init__(self,name,color,weight):\n",
    "        self.name=name\n",
    "        self.color=color\n",
    "        self.weight=weight\n",
    "    def introduce_self(self):\n",
    "        print(\"my name is\"+ self.name)\n",
    "        # dont forget after def always a space and 2 underscore before and after init so 4 in total "
   ]
  },
  {
   "cell_type": "code",
   "execution_count": 20,
   "metadata": {},
   "outputs": [],
   "source": [
    "# r1=Robot()\n",
    "# r1.name=\" tom\"\n",
    "# r1.color=\" red\"\n",
    "# r1.weight=30\n",
    "\n",
    "# r2=Robot()\n",
    "# r2.name=\" Jerry\"\n",
    "# r2.color=\"blue\"\n",
    "# r2.weight=40\n",
    "r1= Robot(\" Tom\",\"red\",30)\n",
    "r2= Robot(\" Jerry\",\"blue\",40)"
   ]
  },
  {
   "cell_type": "code",
   "execution_count": 24,
   "metadata": {},
   "outputs": [
    {
     "name": "stdout",
     "output_type": "stream",
     "text": [
      "my name is Tom\n",
      "my name is Jerry\n"
     ]
    }
   ],
   "source": [
    "r1.introduce_self()\n",
    "r2.introduce_self()"
   ]
  },
  {
   "cell_type": "code",
   "execution_count": null,
   "metadata": {},
   "outputs": [],
   "source": []
  }
 ],
 "metadata": {
  "kernelspec": {
   "display_name": "Python 3",
   "language": "python",
   "name": "python3"
  },
  "language_info": {
   "codemirror_mode": {
    "name": "ipython",
    "version": 3
   },
   "file_extension": ".py",
   "mimetype": "text/x-python",
   "name": "python",
   "nbconvert_exporter": "python",
   "pygments_lexer": "ipython3",
   "version": "3.8.5"
  }
 },
 "nbformat": 4,
 "nbformat_minor": 4
}
