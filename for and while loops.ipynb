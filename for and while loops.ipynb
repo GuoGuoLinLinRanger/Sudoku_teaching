{
 "cells": [
  {
   "cell_type": "code",
   "execution_count": 1,
   "metadata": {},
   "outputs": [],
   "source": [
    "c=[5,4,8]"
   ]
  },
  {
   "cell_type": "code",
   "execution_count": 2,
   "metadata": {},
   "outputs": [
    {
     "name": "stdout",
     "output_type": "stream",
     "text": [
      "17\n"
     ]
    }
   ],
   "source": [
    "total = 0\n",
    "for element in c:\n",
    "    total+=element\n",
    "print(total)\n",
    "#put the print out of the loop"
   ]
  },
  {
   "cell_type": "code",
   "execution_count": 3,
   "metadata": {},
   "outputs": [
    {
     "name": "stdout",
     "output_type": "stream",
     "text": [
      "10\n"
     ]
    }
   ],
   "source": [
    "total2=0\n",
    "for i in range(1,5):\n",
    "    total2+=i\n",
    "print (total2)\n",
    "#dont print i print total dumbass"
   ]
  },
  {
   "cell_type": "code",
   "execution_count": 4,
   "metadata": {},
   "outputs": [
    {
     "name": "stdout",
     "output_type": "stream",
     "text": [
      "1\n"
     ]
    }
   ],
   "source": [
    "print(4%3)\n",
    "#it basically calculate the first number divided by the second then it would give the remainder"
   ]
  },
  {
   "cell_type": "code",
   "execution_count": 5,
   "metadata": {},
   "outputs": [
    {
     "name": "stdout",
     "output_type": "stream",
     "text": [
      "2\n",
      "0\n"
     ]
    }
   ],
   "source": [
    "print(5%3)\n",
    "print(6%3)"
   ]
  },
  {
   "cell_type": "code",
   "execution_count": 6,
   "metadata": {},
   "outputs": [
    {
     "name": "stdout",
     "output_type": "stream",
     "text": [
      "3\n",
      "6\n"
     ]
    }
   ],
   "source": [
    "total3=0\n",
    "for r in range(1, 8):\n",
    "    if r % 3 == 0:\n",
    "        print(r)\n",
    "#this is for finding the multiple of 3"
   ]
  },
  {
   "cell_type": "code",
   "execution_count": 7,
   "metadata": {},
   "outputs": [
    {
     "name": "stdout",
     "output_type": "stream",
     "text": [
      "multiple of 3:\n",
      "3\n",
      "6\n",
      "9\n",
      "12\n",
      "15\n",
      "18\n",
      "21\n",
      "24\n",
      "27\n",
      "30\n",
      "33\n",
      "36\n",
      "39\n",
      "42\n",
      "45\n",
      "48\n",
      "51\n",
      "54\n",
      "57\n",
      "60\n",
      "63\n",
      "66\n",
      "69\n",
      "72\n",
      "75\n",
      "78\n",
      "81\n",
      "84\n",
      "87\n",
      "90\n",
      "93\n",
      "96\n",
      "99\n",
      "multiple of 5\n",
      "5\n",
      "10\n",
      "15\n",
      "20\n",
      "25\n",
      "30\n",
      "35\n",
      "40\n",
      "45\n",
      "50\n",
      "55\n",
      "60\n",
      "65\n",
      "70\n",
      "75\n",
      "80\n",
      "85\n",
      "90\n",
      "95\n"
     ]
    }
   ],
   "source": [
    "print(\"multiple of 3:\")\n",
    "for num in range(1,100):\n",
    "    if num % 3==0:\n",
    "        print(num)\n",
    "print(\"multiple of 5\")\n",
    "for num in range(1,100):\n",
    "    if num % 5==0:\n",
    "        print(num)\n",
    "#if u put print(multiple of 3 inside the if its gonna print it for each not beautiful to see not too elegant)"
   ]
  },
  {
   "cell_type": "code",
   "execution_count": 8,
   "metadata": {},
   "outputs": [
    {
     "name": "stdout",
     "output_type": "stream",
     "text": [
      "myltiple of 3 and 5\n",
      "15\n",
      "30\n",
      "45\n",
      "60\n",
      "75\n",
      "90\n"
     ]
    }
   ],
   "source": [
    "print(\"myltiple of 3 and 5\")\n",
    "for y in range(1,100):\n",
    "    if y%3==0:\n",
    "        if y%5==0:\n",
    "            print(y)\n",
    "#u can actually just write y%15==0: but i wanted to try and understand the limits"
   ]
  },
  {
   "cell_type": "code",
   "execution_count": 9,
   "metadata": {},
   "outputs": [
    {
     "name": "stdout",
     "output_type": "stream",
     "text": [
      "[0, 3, 6, 9, 12, 15, 18, 21, 24, 27, 30, 33, 36, 39, 42, 45, 48, 51, 54, 57, 60, 63, 66, 69, 72, 75, 78, 81, 84, 87, 90, 93, 96, 99]\n"
     ]
    }
   ],
   "source": [
    "b=[0]\n",
    "for y in range(1,100):\n",
    "    if y%3==0:\n",
    "        b.append(y)\n",
    "print(b)\n",
    "# i tried to add every number that is a multiple of 3 to a list to compile them cuz thats how ill get a job"
   ]
  },
  {
   "cell_type": "code",
   "execution_count": 10,
   "metadata": {},
   "outputs": [],
   "source": [
    "del b[1:20]\n",
    "#this is something i found on internet not on cs dojo it seems it can delete more"
   ]
  },
  {
   "cell_type": "code",
   "execution_count": 11,
   "metadata": {},
   "outputs": [
    {
     "name": "stdout",
     "output_type": "stream",
     "text": [
      "10\n"
     ]
    }
   ],
   "source": [
    "total=0\n",
    "for i in range(1,5):\n",
    "    total+=i\n",
    "print(total)\n",
    "#in sum it means for every number from 1 to 5 but not including 5 add it to the total and then print it"
   ]
  },
  {
   "cell_type": "code",
   "execution_count": 12,
   "metadata": {},
   "outputs": [
    {
     "name": "stdout",
     "output_type": "stream",
     "text": [
      "10\n"
     ]
    }
   ],
   "source": [
    "total2=0\n",
    "j=1\n",
    "while j<5:\n",
    "    total2+=j\n",
    "    j+=1\n",
    "print(total2)\n",
    "#in sum it means the same but its j=1 so itll start as one and while j<5 add it to the total and once its completed add one to j so it makes j+1\n",
    "# and itll stop when j becomes 5"
   ]
  },
  {
   "cell_type": "code",
   "execution_count": 13,
   "metadata": {},
   "outputs": [
    {
     "name": "stdout",
     "output_type": "stream",
     "text": [
      "14\n"
     ]
    }
   ],
   "source": [
    "#if theres no negative number\n",
    "total4=0\n",
    "i=0\n",
    "list2=[5,4,4,1,]\n",
    "while i < len(list2) and list2[i] >0:\n",
    "    #here len means the limit of the list and the AND is for another while\n",
    "    total4+=list2[i]\n",
    "    i+=1\n",
    "print(total4)\n",
    "#len means the limits u gotta add it or after the programm will be like wtf theres no number "
   ]
  },
  {
   "cell_type": "code",
   "execution_count": 14,
   "metadata": {},
   "outputs": [
    {
     "name": "stdout",
     "output_type": "stream",
     "text": [
      "-9\n",
      "-9\n"
     ]
    }
   ],
   "source": [
    "givenlist2 = [5, 3, 2, -1, -3, -5]\n",
    "total7 = 0\n",
    "for element in givenlist2:\n",
    "    if element < 0:\n",
    "        total7 += element\n",
    "print(total7)\n",
    "\n",
    "#while loop\n",
    "givenList = [5, 3, 2, -1, -3, -5]\n",
    "total = 0\n",
    "i = 0\n",
    "while i < len(givenList):\n",
    "    if givenList[i] < 0:\n",
    "        total += givenList[i]\n",
    "    i += 1\n",
    "print(total)\n",
    "#by ming and its to add every negative number in the list to the total"
   ]
  },
  {
   "cell_type": "code",
   "execution_count": 18,
   "metadata": {},
   "outputs": [
    {
     "name": "stdout",
     "output_type": "stream",
     "text": [
      "-9\n"
     ]
    }
   ],
   "source": [
    "total7=0\n",
    "i=0\n",
    "givenlist2=[5,3,2,-1,-3,-5]\n",
    "while i<len(givenlist2):\n",
    "    if givenlist2[i]<=0:\n",
    "        total7+=givenlist2[i]\n",
    "    i+=1\n",
    "print(total7)\n",
    "#define i if its a while loop"
   ]
  },
  {
   "cell_type": "code",
   "execution_count": 20,
   "metadata": {},
   "outputs": [
    {
     "name": "stdout",
     "output_type": "stream",
     "text": [
      "lol\n",
      "happy\n",
      "happy\n",
      "sadd\n",
      "sadd\n",
      "sadd\n"
     ]
    }
   ],
   "source": [
    "a=[\"lol\",\"happy\",\"sadd\"]\n",
    "for i in range(len(a)):\n",
    "    for j in range(i+1):\n",
    "        #i=0 ->j=0\n",
    "        #i=1 ->j=0,1\n",
    "        #i=2 ->j=0,1,2\n",
    "        print(a[i])"
   ]
  },
  {
   "cell_type": "code",
   "execution_count": 22,
   "metadata": {},
   "outputs": [
    {
     "name": "stdout",
     "output_type": "stream",
     "text": [
      "2318\n"
     ]
    }
   ],
   "source": [
    "total=0\n",
    "for i in range(1,100):\n",
    "    if i%3==0:\n",
    "        total+=i\n",
    "    elif i%5==0:\n",
    "        total+=i\n",
    "print(total)"
   ]
  },
  {
   "cell_type": "code",
   "execution_count": 23,
   "metadata": {},
   "outputs": [
    {
     "name": "stdout",
     "output_type": "stream",
     "text": [
      "2318\n"
     ]
    }
   ],
   "source": [
    "total=0\n",
    "for i in range(1,100):\n",
    "    if i%3==0 or i%5==0:\n",
    "        total+=i\n",
    "print(total)\n",
    "#or just mean if it satisfies any of these do it"
   ]
  },
  {
   "cell_type": "code",
   "execution_count": 25,
   "metadata": {},
   "outputs": [
    {
     "name": "stdout",
     "output_type": "stream",
     "text": [
      "-10\n"
     ]
    }
   ],
   "source": [
    "givenlist=[5,4,3,2,1,-1,-2,-3,-4]\n",
    "total2=0\n",
    "j=len(givenlist)-1\n",
    "while givenlist[j]<0:\n",
    "    total2+=givenlist[j]\n",
    "    j-=1\n",
    "print(total2)"
   ]
  },
  {
   "cell_type": "code",
   "execution_count": null,
   "metadata": {},
   "outputs": [],
   "source": []
  }
 ],
 "metadata": {
  "kernelspec": {
   "display_name": "Python 3",
   "language": "python",
   "name": "python3"
  },
  "language_info": {
   "codemirror_mode": {
    "name": "ipython",
    "version": 3
   },
   "file_extension": ".py",
   "mimetype": "text/x-python",
   "name": "python",
   "nbconvert_exporter": "python",
   "pygments_lexer": "ipython3",
   "version": "3.8.5"
  }
 },
 "nbformat": 4,
 "nbformat_minor": 4
}
