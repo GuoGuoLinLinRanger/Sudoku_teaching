{
 "cells": [
  {
   "cell_type": "code",
   "execution_count": 1,
   "metadata": {},
   "outputs": [
    {
     "name": "stdout",
     "output_type": "stream",
     "text": [
      "15\n"
     ]
    }
   ],
   "source": [
    "total5=0\n",
    "givenlist=[5,4,3,2,1,-1]\n",
    "for element in givenlist:\n",
    "    if element<0:\n",
    "        break\n",
    "    total5+=element\n",
    "print(total5)\n",
    "#break means stop the for loop"
   ]
  },
  {
   "cell_type": "code",
   "execution_count": 2,
   "metadata": {},
   "outputs": [
    {
     "name": "stdout",
     "output_type": "stream",
     "text": [
      "15\n"
     ]
    }
   ],
   "source": [
    "total6=0\n",
    "i=0\n",
    "while True:\n",
    "    total6+=givenlist[i]\n",
    "    i+=1\n",
    "    if givenlist[i]<=0:\n",
    "        break\n",
    "print(total6)\n",
    "#while true just mean do it while anything that happens do it dont forget the caps"
   ]
  },
  {
   "cell_type": "code",
   "execution_count": null,
   "metadata": {},
   "outputs": [],
   "source": []
  },
  {
   "cell_type": "code",
   "execution_count": null,
   "metadata": {},
   "outputs": [],
   "source": []
  }
 ],
 "metadata": {
  "kernelspec": {
   "display_name": "Python 3",
   "language": "python",
   "name": "python3"
  },
  "language_info": {
   "codemirror_mode": {
    "name": "ipython",
    "version": 3
   },
   "file_extension": ".py",
   "mimetype": "text/x-python",
   "name": "python",
   "nbconvert_exporter": "python",
   "pygments_lexer": "ipython3",
   "version": "3.8.5"
  }
 },
 "nbformat": 4,
 "nbformat_minor": 4
}
