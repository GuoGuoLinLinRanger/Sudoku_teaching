{
 "cells": [
  {
   "cell_type": "code",
   "execution_count": 1,
   "metadata": {},
   "outputs": [
    {
     "name": "stdout",
     "output_type": "stream",
     "text": [
      "a is not less than b\n",
      "b is less than a\n"
     ]
    }
   ],
   "source": [
    "a=3\n",
    "b=2\n",
    "if a<b:\n",
    "    print(\"a is less than b\")\n",
    "else:\n",
    "    print(\"a is not less than b\")\n",
    "    if a>b:\n",
    "        print(\"b is less than a\")\n",
    "    #if u dont put the \"\" it wont be considered as a string and may cause non function\n",
    "    #variables may be changed"
   ]
  },
  {
   "cell_type": "code",
   "execution_count": 2,
   "metadata": {},
   "outputs": [
    {
     "name": "stdout",
     "output_type": "stream",
     "text": [
      "e is greater than f +10\n"
     ]
    }
   ],
   "source": [
    "e=19\n",
    "f=8\n",
    "if e<f:\n",
    "    print(\"e is less than f\")\n",
    "elif e==f:\n",
    "    print(\"e is equal to f\")\n",
    "elif e>f+10:\n",
    "    print(\"e is greater than f +10\")\n",
    "else:\n",
    "    print(\"f is less than e\")\n",
    "    # == means equal = means refer\n",
    "    #u can use more complicated than just<> and if u have more than one condition u gotta use elif it means other ifs"
   ]
  },
  {
   "cell_type": "code",
   "execution_count": 3,
   "metadata": {},
   "outputs": [
    {
     "name": "stdout",
     "output_type": "stream",
     "text": [
      "bmi:\n",
      "Tong\n",
      "is not overweight\n"
     ]
    }
   ],
   "source": [
    "#Bmi calculator 1.0\n",
    "name=\"Tong\"\n",
    "weight_kg=60\n",
    "height_m=2\n",
    "bmi=(weight_kg/height_m**2)\n",
    "print(\"bmi:\")\n",
    "if bmi<25:\n",
    "    print(name)\n",
    "    print(\"is not overweight\")\n",
    "elif bmi==25:\n",
    "    print(name)\n",
    "    print(\"is on the limit\")\n",
    "else :\n",
    "    print(name)\n",
    "    print(\"is overweight\")\n",
    "#by using the if and else statement we can create a bmi calculator "
   ]
  },
  {
   "cell_type": "code",
   "execution_count": null,
   "metadata": {},
   "outputs": [],
   "source": []
  }
 ],
 "metadata": {
  "kernelspec": {
   "display_name": "Python 3",
   "language": "python",
   "name": "python3"
  },
  "language_info": {
   "codemirror_mode": {
    "name": "ipython",
    "version": 3
   },
   "file_extension": ".py",
   "mimetype": "text/x-python",
   "name": "python",
   "nbconvert_exporter": "python",
   "pygments_lexer": "ipython3",
   "version": "3.8.5"
  }
 },
 "nbformat": 4,
 "nbformat_minor": 4
}
