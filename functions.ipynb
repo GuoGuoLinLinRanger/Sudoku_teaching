{
 "cells": [
  {
   "cell_type": "code",
   "execution_count": 1,
   "metadata": {},
   "outputs": [
    {
     "name": "stdout",
     "output_type": "stream",
     "text": [
      "this is outside the function\n"
     ]
    }
   ],
   "source": [
    "#function is a collection of instructions or code\n",
    "def function1():\n",
    "    print(\"lol\")\n",
    "    print(\"lol2\")\n",
    "print(\"this is outside the function\")"
   ]
  },
  {
   "cell_type": "code",
   "execution_count": 2,
   "metadata": {},
   "outputs": [
    {
     "name": "stdout",
     "output_type": "stream",
     "text": [
      "lol\n",
      "lol2\n"
     ]
    }
   ],
   "source": [
    "#if u print the name of the function its gonna do what the instructions u gave the function\n",
    "function1()"
   ]
  },
  {
   "cell_type": "code",
   "execution_count": 3,
   "metadata": {},
   "outputs": [
    {
     "name": "stdout",
     "output_type": "stream",
     "text": [
      "lol\n",
      "lol2\n",
      "lol\n",
      "lol2\n"
     ]
    }
   ],
   "source": [
    "#u can repeat it\n",
    "function1()\n",
    "function1()"
   ]
  },
  {
   "cell_type": "code",
   "execution_count": 4,
   "metadata": {},
   "outputs": [],
   "source": [
    "#can be used for mapping\n",
    "def function2(x):\n",
    "    return 2*x\n",
    "#it gives u back when u use this function 2 time x\n",
    "#can also add strings ex:print(\"x is equal to:\")"
   ]
  },
  {
   "cell_type": "code",
   "execution_count": 5,
   "metadata": {},
   "outputs": [
    {
     "data": {
      "text/plain": [
       "6"
      ]
     },
     "execution_count": 5,
     "metadata": {},
     "output_type": "execute_result"
    }
   ],
   "source": [
    "function2(3)\n",
    "#in cs dojo they used a=function 2(3) then print a but i think this is easier"
   ]
  },
  {
   "cell_type": "code",
   "execution_count": 6,
   "metadata": {},
   "outputs": [],
   "source": [
    "#BMI calculator 2.0\n",
    "name1=\"Simon\"\n",
    "height_m1=0.5\n",
    "weight_kg1=50\n",
    "\n",
    "name2=\"JAQ\"\n",
    "height_m2=1\n",
    "weight_kg2=60\n",
    "\n",
    "name3=\"Ming\"\n",
    "height_m3=2\n",
    "weight_kg3=20\n",
    "def bmi(name,height_m,weight_kg):\n",
    "    bmi=(weight_kg/height_m**2)\n",
    "    print(\"bmi:\")\n",
    "    print(bmi)\n",
    "    if bmi<25:\n",
    "        return name +\" is not overweight\"\n",
    "    elif bmi==25:\n",
    "        return name +\" is average\"\n",
    "    elif bmi>25+10:\n",
    "        return name +\" is  handsome and intelligent\"\n",
    "    else :\n",
    "        return name +\" is overweight\"\n",
    "    #future dont add : after return dont forget the \"for the strings\" and write print bmi cuz u gotta print it dammit\n",
    "#dont forget to execute the command i was stuck cuz i did not execute\n",
    "#put the same word here i put height_m but sometime forgot the _m"
   ]
  },
  {
   "cell_type": "code",
   "execution_count": 7,
   "metadata": {},
   "outputs": [
    {
     "name": "stdout",
     "output_type": "stream",
     "text": [
      "bmi:\n",
      "200.0\n",
      "bmi:\n",
      "60.0\n",
      "bmi:\n",
      "5.0\n"
     ]
    }
   ],
   "source": [
    "result1=bmi(name1, height_m1, weight_kg1)\n",
    "result2=bmi(name2, height_m2, weight_kg2)\n",
    "result3=bmi(name3, height_m3, weight_kg3)\n",
    "#the result is a random name but then u equal the result to the bmi that is a function \n",
    "#and the words in parenthesis means the information used"
   ]
  },
  {
   "cell_type": "code",
   "execution_count": 8,
   "metadata": {},
   "outputs": [
    {
     "name": "stdout",
     "output_type": "stream",
     "text": [
      "Simon is  handsome and intelligent\n",
      "JAQ is  handsome and intelligent\n",
      "Ming is not overweight\n"
     ]
    }
   ],
   "source": [
    "print(result1)\n",
    "print(result2)\n",
    "print(result3)"
   ]
  },
  {
   "cell_type": "code",
   "execution_count": null,
   "metadata": {},
   "outputs": [],
   "source": []
  }
 ],
 "metadata": {
  "kernelspec": {
   "display_name": "Python 3",
   "language": "python",
   "name": "python3"
  },
  "language_info": {
   "codemirror_mode": {
    "name": "ipython",
    "version": 3
   },
   "file_extension": ".py",
   "mimetype": "text/x-python",
   "name": "python",
   "nbconvert_exporter": "python",
   "pygments_lexer": "ipython3",
   "version": "3.8.5"
  }
 },
 "nbformat": 4,
 "nbformat_minor": 4
}
